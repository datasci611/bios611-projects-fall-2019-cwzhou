{
 "cells": [
  {
   "cell_type": "code",
   "execution_count": 6,
   "metadata": {
    "scrolled": true
   },
   "outputs": [],
   "source": [
    "# load Python packages used data wrangling\n",
    "import pandas as pd\n",
    "import numpy as np\n",
    "import datetime as datetime\n",
    "\n",
    "# UMD shelter data from github\n",
    "client = pd.read_csv('https://raw.githubusercontent.com/biodatascience/datasci611/gh-pages/data/project2_2019/CLIENT_191102.tsv',sep='\\t')\n",
    "visit = pd.read_csv('https://raw.githubusercontent.com/biodatascience/datasci611/gh-pages/data/project2_2019/ENTRY_EXIT_191102.tsv',sep='\\t')\n",
    "\n",
    "#client.head()\n",
    "#visit.head()\n",
    "\n",
    "#change Entry and Exit dates to datetime, then create OUTCOME variable (Total.Nights)\n",
    "visit['Entry'] =  pd.to_datetime(visit['Entry Date'], format='%m/%d/%Y')\n",
    "visit['Exit'] =  pd.to_datetime(visit['Exit Date'], format='%m/%d/%Y')\n",
    "visit['Total Nights'] = visit['Exit'] - visit['Entry']  # difference automatically calculated in days\n",
    "#visit[\"Total Nights\"][0].days\n",
    "visit[\"Total Nights\"] = visit[\"Total Nights\"].apply(lambda row: row.days)\n",
    "#visit[\"Total Nights\"]\n",
    "\n",
    "#remove unused variables\n",
    "visit1 = visit.drop(['Entry Exit Group Id','Entry Exit Household Id', 'Unnamed: 6','Entry Exit Date Added','Entry Exit Date Updated','Housing Move-in Date(5584)','Destination','Entry Exit Type'], axis=1)\n",
    "client1 = client.drop(['Client Age at Exit','Client Veteran Status'],axis=1)"
   ]
  },
  {
   "cell_type": "code",
   "execution_count": 7,
   "metadata": {},
   "outputs": [
    {
     "data": {
      "text/html": [
       "<div>\n",
       "<style scoped>\n",
       "    .dataframe tbody tr th:only-of-type {\n",
       "        vertical-align: middle;\n",
       "    }\n",
       "\n",
       "    .dataframe tbody tr th {\n",
       "        vertical-align: top;\n",
       "    }\n",
       "\n",
       "    .dataframe thead th {\n",
       "        text-align: right;\n",
       "    }\n",
       "</style>\n",
       "<table border=\"1\" class=\"dataframe\">\n",
       "  <thead>\n",
       "    <tr style=\"text-align: right;\">\n",
       "      <th></th>\n",
       "      <th>EE Provider ID</th>\n",
       "      <th>EE UID</th>\n",
       "      <th>Client Unique ID</th>\n",
       "      <th>Client ID</th>\n",
       "      <th>Entry Date</th>\n",
       "      <th>Exit Date</th>\n",
       "      <th>Reason for Leaving</th>\n",
       "      <th>Entry</th>\n",
       "      <th>Exit</th>\n",
       "      <th>Total Nights</th>\n",
       "    </tr>\n",
       "  </thead>\n",
       "  <tbody>\n",
       "    <tr>\n",
       "      <td>0</td>\n",
       "      <td>Urban Ministries of Durham - Durham County - S...</td>\n",
       "      <td>687901</td>\n",
       "      <td>pbkf09291954p610b236</td>\n",
       "      <td>397941</td>\n",
       "      <td>8/15/2015</td>\n",
       "      <td>7/11/2016</td>\n",
       "      <td>Completed program</td>\n",
       "      <td>2015-08-15</td>\n",
       "      <td>2016-07-11</td>\n",
       "      <td>331.0</td>\n",
       "    </tr>\n",
       "    <tr>\n",
       "      <td>1</td>\n",
       "      <td>Urban Ministries of Durham - Durham County - S...</td>\n",
       "      <td>687902</td>\n",
       "      <td>kdaf01071967k400d635</td>\n",
       "      <td>130335</td>\n",
       "      <td>8/15/2015</td>\n",
       "      <td>8/31/2015</td>\n",
       "      <td>Needs could not be met</td>\n",
       "      <td>2015-08-15</td>\n",
       "      <td>2015-08-31</td>\n",
       "      <td>16.0</td>\n",
       "    </tr>\n",
       "    <tr>\n",
       "      <td>2</td>\n",
       "      <td>Urban Ministries of Durham - Durham County - S...</td>\n",
       "      <td>687903</td>\n",
       "      <td>smrf06211973s620m640</td>\n",
       "      <td>188933</td>\n",
       "      <td>8/15/2015</td>\n",
       "      <td>9/19/2015</td>\n",
       "      <td>Other</td>\n",
       "      <td>2015-08-15</td>\n",
       "      <td>2015-09-19</td>\n",
       "      <td>35.0</td>\n",
       "    </tr>\n",
       "    <tr>\n",
       "      <td>3</td>\n",
       "      <td>Urban Ministries of Durham - Durham County - S...</td>\n",
       "      <td>687904</td>\n",
       "      <td>abrm07251958a416b600</td>\n",
       "      <td>168290</td>\n",
       "      <td>8/15/2015</td>\n",
       "      <td>3/7/2016</td>\n",
       "      <td>Other</td>\n",
       "      <td>2015-08-15</td>\n",
       "      <td>2016-03-07</td>\n",
       "      <td>205.0</td>\n",
       "    </tr>\n",
       "    <tr>\n",
       "      <td>4</td>\n",
       "      <td>Urban Ministries of Durham - Durham County - S...</td>\n",
       "      <td>687905</td>\n",
       "      <td>wbom01251964w450b620</td>\n",
       "      <td>123122</td>\n",
       "      <td>8/15/2015</td>\n",
       "      <td>8/24/2015</td>\n",
       "      <td>Other</td>\n",
       "      <td>2015-08-15</td>\n",
       "      <td>2015-08-24</td>\n",
       "      <td>9.0</td>\n",
       "    </tr>\n",
       "  </tbody>\n",
       "</table>\n",
       "</div>"
      ],
      "text/plain": [
       "                                      EE Provider ID  EE UID  \\\n",
       "0  Urban Ministries of Durham - Durham County - S...  687901   \n",
       "1  Urban Ministries of Durham - Durham County - S...  687902   \n",
       "2  Urban Ministries of Durham - Durham County - S...  687903   \n",
       "3  Urban Ministries of Durham - Durham County - S...  687904   \n",
       "4  Urban Ministries of Durham - Durham County - S...  687905   \n",
       "\n",
       "       Client Unique ID  Client ID Entry Date  Exit Date  \\\n",
       "0  pbkf09291954p610b236     397941  8/15/2015  7/11/2016   \n",
       "1  kdaf01071967k400d635     130335  8/15/2015  8/31/2015   \n",
       "2  smrf06211973s620m640     188933  8/15/2015  9/19/2015   \n",
       "3  abrm07251958a416b600     168290  8/15/2015   3/7/2016   \n",
       "4  wbom01251964w450b620     123122  8/15/2015  8/24/2015   \n",
       "\n",
       "       Reason for Leaving      Entry       Exit  Total Nights  \n",
       "0       Completed program 2015-08-15 2016-07-11         331.0  \n",
       "1  Needs could not be met 2015-08-15 2015-08-31          16.0  \n",
       "2                   Other 2015-08-15 2015-09-19          35.0  \n",
       "3                   Other 2015-08-15 2016-03-07         205.0  \n",
       "4                   Other 2015-08-15 2015-08-24           9.0  "
      ]
     },
     "execution_count": 7,
     "metadata": {},
     "output_type": "execute_result"
    }
   ],
   "source": [
    "visit1.head()\n",
    "#visit1['Total Nights'].dtype"
   ]
  },
  {
   "cell_type": "code",
   "execution_count": 8,
   "metadata": {},
   "outputs": [],
   "source": [
    "#visit1.head()\n",
    "#client1.head()"
   ]
  },
  {
   "cell_type": "code",
   "execution_count": 9,
   "metadata": {},
   "outputs": [
    {
     "data": {
      "text/plain": [
       "Index(['EE Provider ID', 'EE UID', 'Client Unique ID', 'Client ID',\n",
       "       'Client Age at Entry', 'Client Gender', 'Client Primary Race',\n",
       "       'Client Ethnicity', 'Entry Date', 'Exit Date', 'Reason for Leaving',\n",
       "       'Entry', 'Exit', 'Total Nights'],\n",
       "      dtype='object')"
      ]
     },
     "execution_count": 9,
     "metadata": {},
     "output_type": "execute_result"
    }
   ],
   "source": [
    "#Merge the two datasets by ID\n",
    "df = client1.merge(visit1, on=['Client Unique ID','EE Provider ID', 'EE UID', 'Client ID'], how='left')\n",
    "#df.dropna(df, axis=0, how='any')\n",
    "df.columns"
   ]
  },
  {
   "cell_type": "code",
   "execution_count": 10,
   "metadata": {},
   "outputs": [
    {
     "data": {
      "text/plain": [
       "array(['Non-Hispanic/Non-Latino (HUD)', 'Hispanic/Latino (HUD)',\n",
       "       'Data not collected (HUD)', 'Client refused (HUD)',\n",
       "       \"Client doesn't know (HUD)\", nan], dtype=object)"
      ]
     },
     "execution_count": 10,
     "metadata": {},
     "output_type": "execute_result"
    }
   ],
   "source": [
    "#SHow unique values for each covariate\n",
    "#df['Client Age at Entry'].unique()\n",
    "#df['Client Gender'].unique()\n",
    "#df['Client Primary Race'].unique()\n",
    "df['Client Ethnicity'].unique()\n",
    "#df['Reason for Leaving'].unique()"
   ]
  },
  {
   "cell_type": "code",
   "execution_count": 11,
   "metadata": {
    "scrolled": true
   },
   "outputs": [
    {
     "data": {
      "text/plain": [
       "(5299, 14)"
      ]
     },
     "execution_count": 11,
     "metadata": {},
     "output_type": "execute_result"
    }
   ],
   "source": [
    "#how many observations in the dataset\n",
    "df.shape"
   ]
  },
  {
   "cell_type": "code",
   "execution_count": 12,
   "metadata": {},
   "outputs": [],
   "source": [
    "#df.isna().mean()"
   ]
  },
  {
   "cell_type": "code",
   "execution_count": 13,
   "metadata": {},
   "outputs": [],
   "source": [
    "#df.isna().mean()"
   ]
  },
  {
   "cell_type": "code",
   "execution_count": 14,
   "metadata": {},
   "outputs": [],
   "source": [
    "#drop missing values\n",
    "df1 = df.dropna(axis=0,how='any')"
   ]
  },
  {
   "cell_type": "code",
   "execution_count": 15,
   "metadata": {
    "scrolled": true
   },
   "outputs": [
    {
     "data": {
      "text/plain": [
       "(5189, 14)"
      ]
     },
     "execution_count": 15,
     "metadata": {},
     "output_type": "execute_result"
    }
   ],
   "source": [
    "#df1.isna().mean()\n",
    "df1.shape"
   ]
  },
  {
   "cell_type": "code",
   "execution_count": 17,
   "metadata": {},
   "outputs": [
    {
     "data": {
      "text/plain": [
       "(5172, 14)"
      ]
     },
     "execution_count": 17,
     "metadata": {},
     "output_type": "execute_result"
    }
   ],
   "source": [
    "#drop Trans Female observations\n",
    "df2 = df1[df1['Client Gender'] != 'Trans Female (MTF or Male to Female)']\n",
    "df2.shape"
   ]
  },
  {
   "cell_type": "code",
   "execution_count": 18,
   "metadata": {},
   "outputs": [
    {
     "data": {
      "text/plain": [
       "(5143, 14)"
      ]
     },
     "execution_count": 18,
     "metadata": {},
     "output_type": "execute_result"
    }
   ],
   "source": [
    "#drop observations with refuse, doesn't know, or not collected for ethnicity\n",
    "df3 = df2[df2['Client Ethnicity'] != 'Client refused (HUD)']\n",
    "df3 = df3[df3['Client Ethnicity'] != \"Client doesn't know (HUD)\"]\n",
    "df3 = df3[df3['Client Ethnicity'] != \"Data not collected (HUD)\"]\n",
    "df3.shape"
   ]
  },
  {
   "cell_type": "code",
   "execution_count": 23,
   "metadata": {},
   "outputs": [
    {
     "data": {
      "text/plain": [
       "(5133, 14)"
      ]
     },
     "execution_count": 23,
     "metadata": {},
     "output_type": "execute_result"
    }
   ],
   "source": [
    "#drop observations with refuse, doesn't know, or not collected for race\n",
    "df4 = df3[df3['Client Primary Race'] != 'Client refused (HUD)']\n",
    "df4 = df4[df4['Client Primary Race'] != \"Client doesn't know (HUD)\"]\n",
    "df4 = df4[df4['Client Primary Race'] != \"Data not collected (HUD)\"]\n",
    "df4.shape"
   ]
  },
  {
   "cell_type": "code",
   "execution_count": 25,
   "metadata": {},
   "outputs": [],
   "source": [
    "#create dataframes\n",
    "from pandas import DataFrame\n",
    "\n",
    "export_csv = df1.to_csv (r'../data/export_dataframe.csv', index = None, header=True)\n",
    "final_csv = df4.to_csv (r'../data/final_dataframe.csv', index = None, header=True)\n",
    "#/Users/zhou/Desktop/611 Notes/bios611-projects-fall-2019-cwzhou/project_3"
   ]
  }
 ],
 "metadata": {
  "kernelspec": {
   "display_name": "Python 3",
   "language": "python",
   "name": "python3"
  },
  "language_info": {
   "codemirror_mode": {
    "name": "ipython",
    "version": 3
   },
   "file_extension": ".py",
   "mimetype": "text/x-python",
   "name": "python",
   "nbconvert_exporter": "python",
   "pygments_lexer": "ipython3",
   "version": "3.7.4"
  }
 },
 "nbformat": 4,
 "nbformat_minor": 2
}
